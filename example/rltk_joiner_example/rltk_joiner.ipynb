{
 "cells": [
  {
   "cell_type": "code",
   "execution_count": 1,
   "metadata": {},
   "outputs": [],
   "source": [
    "import sys, os\n",
    "import pandas as pd\n",
    "import json\n",
    "\n",
    "sys.path.append(os.path.join(os.getcwd(), '../..'))\n",
    "from datamart.joiners.rltk_joiner import RLTKJoiner\n",
    "\n"
   ]
  },
  {
   "cell_type": "markdown",
   "metadata": {},
   "source": [
    "###Load the supply dataset - taxi example:"
   ]
  },
  {
   "cell_type": "code",
   "execution_count": 2,
   "metadata": {},
   "outputs": [
    {
     "name": "stdout",
     "output_type": "stream",
     "text": [
      "   d3mIndex tpep_pickup_datetime  num_pickups      city\n0         0  2018-01-01 00:00:00           67  New York\n1         1  2018-01-01 01:00:00            8  New York\n2         2  2018-01-01 02:00:00            0  New York\n3         3  2018-01-01 03:00:00            0  New York\n4         4  2018-01-01 04:00:00            7  New York\n"
     ]
    }
   ],
   "source": [
    "taxi_df = pd.read_csv('example/rltk_joiner_example/taxi/left.csv')\n",
    "with open('example/rltk_joiner_example/taxi/left.json') as f:\n",
    "    taxi_meta = json.load(f)\n",
    "print(taxi_df.head())"
   ]
  },
  {
   "cell_type": "markdown",
   "metadata": {},
   "source": [
    "###Load the dataset to join - from NOAA:"
   ]
  },
  {
   "cell_type": "code",
   "execution_count": 3,
   "metadata": {},
   "outputs": [
    {
     "name": "stdout",
     "output_type": "stream",
     "text": [
      "                  date          stationid      city  AWND\n0  2018-01-01T00:00:00  GHCND:USW00014732  new york    76\n1  2018-01-01T00:00:00  GHCND:USW00014734  new york    57\n2  2018-01-01T00:00:00  GHCND:USW00054743  new york    29\n3  2018-01-01T00:00:00  GHCND:USW00054787  new york    38\n4  2018-01-01T00:00:00  GHCND:USW00094728  new york    35\n"
     ]
    }
   ],
   "source": [
    "taxi_df_join = pd.read_csv('example/rltk_joiner_example/taxi/right.csv')\n",
    "with open('example/rltk_joiner_example/taxi/right.json') as f:\n",
    "    taxi_meta_join = json.load(f)\n",
    "print(taxi_df_join.head())"
   ]
  },
  {
   "cell_type": "markdown",
   "metadata": {},
   "source": [
    "###Join the two datasets: "
   ]
  },
  {
   "cell_type": "code",
   "execution_count": 4,
   "metadata": {},
   "outputs": [
    {
     "name": "stdout",
     "output_type": "stream",
     "text": [
      "    d3mIndex tpep_pickup_datetime  num_pickups      city          stationid  AWND\n0          0  2018-01-01 00:00:00           67  New York  GHCND:USW00094789    79\n1          1  2018-01-01 01:00:00            8  New York  GHCND:USW00094789    79\n2          2  2018-01-01 02:00:00            0  New York  GHCND:USW00094789    79\n3          3  2018-01-01 03:00:00            0  New York  GHCND:USW00094789    79\n4          4  2018-01-01 04:00:00            7  New York  GHCND:USW00094789    79\n5          5  2018-01-01 05:00:00           10  New York  GHCND:USW00094789    79\n6          6  2018-01-01 06:00:00            9  New York  GHCND:USW00094789    79\n7          7  2018-01-01 07:00:00           28  New York  GHCND:USW00094789    79\n8          8  2018-01-01 08:00:00          157  New York  GHCND:USW00094789    79\n9          9  2018-01-01 09:00:00          259  New York  GHCND:USW00094789    79\n10        10  2018-01-01 10:00:00          301  New York  GHCND:USW00094789    79\n11        11  2018-01-01 11:00:00          436  New York  GHCND:USW00094789    79\n12        12  2018-01-01 12:00:00          369  New York  GHCND:USW00094789    70\n13        13  2018-01-01 13:00:00          347  New York  GHCND:USW00094789    70\n14        14  2018-01-01 14:00:00          494  New York  GHCND:USW00094789    70\n15        15  2018-01-01 15:00:00          544  New York  GHCND:USW00094789    70\n16        16  2018-01-01 16:00:00          467  New York  GHCND:USW00094789    70\n17        17  2018-01-01 17:00:00          690  New York  GHCND:USW00094789    70\n18        18  2018-01-01 18:00:00          461  New York  GHCND:USW00094789    70\n19        19  2018-01-01 19:00:00          465  New York  GHCND:USW00094789    70\n20        20  2018-01-01 20:00:00          451  New York  GHCND:USW00094789    70\n21        21  2018-01-01 21:00:00          556  New York  GHCND:USW00094789    70\n22        22  2018-01-01 22:00:00          570  New York  GHCND:USW00094789    70\n23        23  2018-01-01 23:00:00          499  New York  GHCND:USW00094789    70\n24        24  2018-01-02 00:00:00          399  New York  GHCND:USW00094789    70\n25        25  2018-01-02 01:00:00           13  New York  GHCND:USW00094789    70\n26        26  2018-01-02 02:00:00           17  New York  GHCND:USW00094789    70\n27        27  2018-01-02 03:00:00            1  New York  GHCND:USW00094789    70\n28        28  2018-01-02 04:00:00            1  New York  GHCND:USW00094789    70\n29        29  2018-01-02 05:00:00            8  New York  GHCND:USW00094789    70\n"
     ]
    }
   ],
   "source": [
    "joiner = RLTKJoiner()\n",
    "pd.set_option(\"display.width\", 200)\n",
    "taxi_res = joiner.join(\n",
    "    left_df=taxi_df,\n",
    "    right_df=taxi_df_join,\n",
    "    left_columns=[[1], [3]],\n",
    "    right_columns=[[0], [2]],\n",
    "    left_metadata=taxi_meta,\n",
    "    right_metadata=taxi_meta_join,\n",
    ")\n",
    "print(taxi_res.head(30))"
   ]
  },
  {
   "cell_type": "markdown",
   "metadata": {},
   "source": [
    "###Load the supply datset - fifa example:\n",
    "(Only several columns are shown because the dataset has too many columns.)"
   ]
  },
  {
   "cell_type": "code",
   "execution_count": 5,
   "metadata": {
    "collapsed": true
   },
   "outputs": [
    {
     "name": "stdout",
     "output_type": "stream",
     "text": [
      "   GameID        Date          Team      Opponent  1st Goal\n0       0  14-06-2018        Russia  Saudi Arabia      12.0\n1       1  14-06-2018  Saudi Arabia        Russia       NaN\n2       2  15-06-2018         Egypt       Uruguay       NaN\n3       3  15-06-2018       Uruguay         Egypt      89.0\n4       4  15-06-2018       Morocco          Iran       NaN\n"
     ]
    }
   ],
   "source": [
    "fifa_df = pd.read_csv('example/rltk_joiner_example/fifa/left.csv')\n",
    "with open('example/rltk_joiner_example/fifa/left.json') as f:\n",
    "    fifa_meta = json.load(f)\n",
    "print(fifa_df[['GameID', 'Date', 'Team', 'Opponent', '1st Goal']].head())"
   ]
  },
  {
   "cell_type": "markdown",
   "metadata": {},
   "source": [
    "###Load the dataset to join:\n",
    "(Only several columns are shown because the dataset has too many columns.)"
   ]
  },
  {
   "cell_type": "code",
   "execution_count": 6,
   "metadata": {},
   "outputs": [
    {
     "name": "stdout",
     "output_type": "stream",
     "text": [
      "    matchday        stage homeTeam_name  homeTeam_id   awayTeam_name  awayTeam_id\n0        1.0  GROUP_STAGE        Russia          808    Saudi Arabia          801\n1        1.0  GROUP_STAGE         Egypt          825         Uruguay          758\n2        1.0  GROUP_STAGE       Morocco          815            Iran          840\n3        1.0  GROUP_STAGE      Portugal          765           Spain          760\n4        1.0  GROUP_STAGE        France          773       Australia          779\n5        1.0  GROUP_STAGE     Argentina          762         Iceland         1066\n6        1.0  GROUP_STAGE          Peru          832         Denmark          782\n7        1.0  GROUP_STAGE       Croatia          799         Nigeria          776\n8        1.0  GROUP_STAGE    Costa Rica          793          Serbia          780\n9        1.0  GROUP_STAGE       Germany          759          Mexico          769\n10       1.0  GROUP_STAGE        Brazil          764     Switzerland          788\n11       1.0  GROUP_STAGE        Sweden          792  Korea Republic          772\n12       1.0  GROUP_STAGE       Belgium          805          Panama         1836\n13       1.0  GROUP_STAGE       Tunisia          802         England          770\n14       1.0  GROUP_STAGE      Colombia          818           Japan          766\n15       1.0  GROUP_STAGE        Poland          794         Senegal          804\n16       2.0  GROUP_STAGE        Russia          808           Egypt          825\n17       2.0  GROUP_STAGE      Portugal          765         Morocco          815\n18       2.0  GROUP_STAGE       Uruguay          758    Saudi Arabia          801\n19       2.0  GROUP_STAGE          Iran          840           Spain          760\n"
     ]
    }
   ],
   "source": [
    "fifa_df_join = pd.read_csv('example/rltk_joiner_example/fifa/right.csv')\n",
    "with open('example/rltk_joiner_example/fifa/right.json') as f:\n",
    "    fifa_meta_join = json.load(f)\n",
    "print(fifa_df_join[['matchday', 'stage', 'homeTeam_name', 'homeTeam_id', 'awayTeam_name', 'awayTeam_id']].head(20))"
   ]
  },
  {
   "cell_type": "markdown",
   "metadata": {},
   "source": [
    "###Join the datasets: \n",
    "(Only several columns are shown because the dataset has too many columns.)\n",
    "- by checking the id and names we can see if the results are correct."
   ]
  },
  {
   "cell_type": "code",
   "execution_count": 8,
   "metadata": {},
   "outputs": [
    {
     "name": "stdout",
     "output_type": "stream",
     "text": [
      "          Date            Team        Opponent  1st Goal  score_fullTime_homeTeam  score_fullTime_awayTeam\n0   14-06-2018          Russia    Saudi Arabia      12.0                        5                        0\n1   14-06-2018    Saudi Arabia          Russia       NaN                        5                        0\n2   15-06-2018           Egypt         Uruguay       NaN                        0                        1\n3   15-06-2018         Uruguay           Egypt      89.0                        0                        1\n4   15-06-2018         Morocco            Iran       NaN                        0                        1\n5   15-06-2018            Iran         Morocco      90.0                        0                        1\n6   15-06-2018        Portugal           Spain       4.0                        3                        3\n7   15-06-2018           Spain        Portugal      24.0                        3                        3\n8   16-06-2018          France       Australia      58.0                        2                        1\n9   16-06-2018       Australia          France      62.0                        2                        1\n10  16-06-2018       Argentina         Iceland      19.0                        1                        1\n11  16-06-2018         Iceland       Argentina      23.0                        1                        1\n12  16-06-2018            Peru         Denmark       NaN                        0                        1\n13  16-06-2018         Denmark            Peru      59.0                        0                        1\n14  17-06-2018         Croatia         Nigeria      32.0                        2                        0\n15  17-06-2018         Nigeria         Croatia       NaN                        2                        0\n16  17-06-2018      Costa Rica          Serbia       NaN                        0                        1\n17  17-06-2018          Serbia      Costa Rica      56.0                        0                        1\n18  17-06-2018         Germany          Mexico       NaN                        0                        1\n19  17-06-2018          Mexico         Germany      35.0                        0                        1\n20  17-06-2018          Brazil     Switzerland      20.0                        1                        1\n21  17-06-2018     Switzerland          Brazil      50.0                        1                        1\n22  18-06-2018          Sweden  Korea Republic      65.0                        1                        0\n23  18-06-2018  Korea Republic          Sweden       NaN                        1                        0\n24  18-06-2018         Belgium          Panama      47.0                        3                        0\n25  18-06-2018          Panama         Belgium       NaN                        3                        0\n26  18-06-2018         Tunisia         England      11.0                        1                        2\n27  18-06-2018         England         Tunisia      35.0                        1                        2\n28  19-06-2018        Colombia           Japan      39.0                        1                        2\n29  19-06-2018           Japan        Colombia       6.0                        1                        2\n"
     ]
    }
   ],
   "source": [
    "fifa_res = joiner.join(\n",
    "    left_df=fifa_df,\n",
    "    right_df=fifa_df_join,\n",
    "    left_columns=[[3, 4]],\n",
    "    right_columns=[[22, 24]],\n",
    "    left_metadata=fifa_meta,\n",
    "    right_metadata=fifa_meta_join,\n",
    ")\n",
    "print(fifa_res[['Date', 'Team', 'Opponent', '1st Goal', 'score_fullTime_homeTeam', 'score_fullTime_awayTeam']].head(30))"
   ]
  },
  {
   "cell_type": "code",
   "execution_count": null,
   "metadata": {},
   "outputs": [],
   "source": [
    "\n"
   ]
  }
 ],
 "metadata": {},
 "nbformat": 4,
 "nbformat_minor": 0
}
